{
 "cells": [
  {
   "cell_type": "code",
   "execution_count": 1,
   "id": "ad8663cc",
   "metadata": {},
   "outputs": [
    {
     "data": {
      "text/html": [
       "<pre style=\"white-space:pre;overflow-x:auto;line-height:normal;font-family:Menlo,'DejaVu Sans Mono',consolas,'Courier New',monospace\"><span style=\"font-weight: bold\">[</span><span style=\"color: #008000; text-decoration-color: #008000\">'reviews'</span>, <span style=\"color: #008000; text-decoration-color: #008000\">'reviews_processed'</span>, <span style=\"color: #008000; text-decoration-color: #008000\">'reviews_with_sentiment'</span>, <span style=\"color: #008000; text-decoration-color: #008000\">'parameters'</span><span style=\"font-weight: bold\">]</span>\n",
       "</pre>\n"
      ],
      "text/plain": [
       "\u001b[1m[\u001b[0m\u001b[32m'reviews'\u001b[0m, \u001b[32m'reviews_processed'\u001b[0m, \u001b[32m'reviews_with_sentiment'\u001b[0m, \u001b[32m'parameters'\u001b[0m\u001b[1m]\u001b[0m\n"
      ]
     },
     "metadata": {},
     "output_type": "display_data"
    }
   ],
   "source": [
    "catalog.list()"
   ]
  },
  {
   "cell_type": "code",
   "execution_count": 2,
   "id": "c930b53d",
   "metadata": {},
   "outputs": [
    {
     "data": {
      "text/html": [
       "<pre style=\"white-space:pre;overflow-x:auto;line-height:normal;font-family:Menlo,'DejaVu Sans Mono',consolas,'Courier New',monospace\"><span style=\"color: #7fbfbf; text-decoration-color: #7fbfbf\">[08/29/22 21:15:20] </span><span style=\"color: #000080; text-decoration-color: #000080\">INFO    </span> Loading data from <span style=\"color: #008000; text-decoration-color: #008000\">'reviews_with_sentiment'</span> <span style=\"font-weight: bold\">(</span>CSVDataSet<span style=\"font-weight: bold\">)</span><span style=\"color: #808000; text-decoration-color: #808000\">...</span>         <a href=\"file:///home/gagandeep/Public/Projects/kedro/app_store_sentiment/venv/lib/python3.10/site-packages/kedro/io/data_catalog.py\" target=\"_blank\"><span style=\"color: #7f7f7f; text-decoration-color: #7f7f7f\">data_catalog.py</span></a><span style=\"color: #7f7f7f; text-decoration-color: #7f7f7f\">:</span><a href=\"file:///home/gagandeep/Public/Projects/kedro/app_store_sentiment/venv/lib/python3.10/site-packages/kedro/io/data_catalog.py#343\" target=\"_blank\"><span style=\"color: #7f7f7f; text-decoration-color: #7f7f7f\">343</span></a>\n",
       "</pre>\n"
      ],
      "text/plain": [
       "\u001b[2;36m[08/29/22 21:15:20]\u001b[0m\u001b[2;36m \u001b[0m\u001b[34mINFO    \u001b[0m Loading data from \u001b[32m'reviews_with_sentiment'\u001b[0m \u001b[1m(\u001b[0mCSVDataSet\u001b[1m)\u001b[0m\u001b[33m...\u001b[0m         \u001b]8;id=195570;file:///home/gagandeep/Public/Projects/kedro/app_store_sentiment/venv/lib/python3.10/site-packages/kedro/io/data_catalog.py\u001b\\\u001b[2mdata_catalog.py\u001b[0m\u001b]8;;\u001b\\\u001b[2m:\u001b[0m\u001b]8;id=133579;file:///home/gagandeep/Public/Projects/kedro/app_store_sentiment/venv/lib/python3.10/site-packages/kedro/io/data_catalog.py#343\u001b\\\u001b[2m343\u001b[0m\u001b]8;;\u001b\\\n"
      ]
     },
     "metadata": {},
     "output_type": "display_data"
    }
   ],
   "source": [
    "df = catalog.load('reviews_with_sentiment')"
   ]
  },
  {
   "cell_type": "code",
   "execution_count": 3,
   "id": "92dee434",
   "metadata": {},
   "outputs": [
    {
     "data": {
      "text/html": [
       "<div>\n",
       "<style scoped>\n",
       "    .dataframe tbody tr th:only-of-type {\n",
       "        vertical-align: middle;\n",
       "    }\n",
       "\n",
       "    .dataframe tbody tr th {\n",
       "        vertical-align: top;\n",
       "    }\n",
       "\n",
       "    .dataframe thead th {\n",
       "        text-align: right;\n",
       "    }\n",
       "</style>\n",
       "<table border=\"1\" class=\"dataframe\">\n",
       "  <thead>\n",
       "    <tr style=\"text-align: right;\">\n",
       "      <th></th>\n",
       "      <th>reviewId</th>\n",
       "      <th>content</th>\n",
       "      <th>score</th>\n",
       "      <th>thumbsUpCount</th>\n",
       "      <th>reviewCreatedVersion</th>\n",
       "      <th>date</th>\n",
       "      <th>result</th>\n",
       "      <th>sentiment</th>\n",
       "    </tr>\n",
       "  </thead>\n",
       "  <tbody>\n",
       "    <tr>\n",
       "      <th>0</th>\n",
       "      <td>a4b5544e-848d-4a16-8f03-ba549688056c</td>\n",
       "      <td>No filtering?? This app is useless without fil...</td>\n",
       "      <td>0.988787</td>\n",
       "      <td>0</td>\n",
       "      <td>22.10.0</td>\n",
       "      <td>2022-08-15 22:34:50</td>\n",
       "      <td>[{'label': 'NEGATIVE', 'score': 0.988786995410...</td>\n",
       "      <td>NEGATIVE</td>\n",
       "    </tr>\n",
       "    <tr>\n",
       "      <th>1</th>\n",
       "      <td>cac1f8af-0724-4b78-a529-26cbacf60948</td>\n",
       "      <td>Facebook sign in is broken.</td>\n",
       "      <td>0.999497</td>\n",
       "      <td>0</td>\n",
       "      <td>22.10.0</td>\n",
       "      <td>2022-08-13 19:15:39</td>\n",
       "      <td>[{'label': 'NEGATIVE', 'score': 0.999497056007...</td>\n",
       "      <td>NEGATIVE</td>\n",
       "    </tr>\n",
       "    <tr>\n",
       "      <th>2</th>\n",
       "      <td>ca941bc6-c471-4169-a508-d7fc53fbcd04</td>\n",
       "      <td>Free and good so far...</td>\n",
       "      <td>0.997767</td>\n",
       "      <td>0</td>\n",
       "      <td>22.10.0</td>\n",
       "      <td>2022-08-05 19:33:43</td>\n",
       "      <td>[{'label': 'POSITIVE', 'score': 0.997767448425...</td>\n",
       "      <td>POSITIVE</td>\n",
       "    </tr>\n",
       "    <tr>\n",
       "      <th>3</th>\n",
       "      <td>f059a575-c8df-4383-bf9c-fb45fc531566</td>\n",
       "      <td>Need timely updates! The new trails show up on...</td>\n",
       "      <td>0.996724</td>\n",
       "      <td>0</td>\n",
       "      <td>22.10.0</td>\n",
       "      <td>2022-08-03 23:25:30</td>\n",
       "      <td>[{'label': 'POSITIVE', 'score': 0.996723592281...</td>\n",
       "      <td>POSITIVE</td>\n",
       "    </tr>\n",
       "    <tr>\n",
       "      <th>4</th>\n",
       "      <td>4157e89f-5c57-49dc-b4a1-7d8959bfe83c</td>\n",
       "      <td>Best app for hiking</td>\n",
       "      <td>0.998607</td>\n",
       "      <td>0</td>\n",
       "      <td>22.10.0</td>\n",
       "      <td>2022-07-26 22:01:49</td>\n",
       "      <td>[{'label': 'POSITIVE', 'score': 0.998606860637...</td>\n",
       "      <td>POSITIVE</td>\n",
       "    </tr>\n",
       "  </tbody>\n",
       "</table>\n",
       "</div>"
      ]
     },
     "execution_count": 3,
     "metadata": {},
     "output_type": "execute_result"
    }
   ],
   "source": [
    "df.head()"
   ]
  },
  {
   "cell_type": "code",
   "execution_count": 4,
   "id": "39c4a376",
   "metadata": {},
   "outputs": [
    {
     "data": {
      "text/html": [
       "<pre style=\"white-space:pre;overflow-x:auto;line-height:normal;font-family:Menlo,'DejaVu Sans Mono',consolas,'Courier New',monospace\">\n",
       "<span style=\"color: #800080; text-decoration-color: #800080; font-weight: bold\">Index</span><span style=\"font-weight: bold\">([</span><span style=\"color: #008000; text-decoration-color: #008000\">'reviewId'</span>, <span style=\"color: #008000; text-decoration-color: #008000\">'content'</span>, <span style=\"color: #008000; text-decoration-color: #008000\">'score'</span>, <span style=\"color: #008000; text-decoration-color: #008000\">'thumbsUpCount'</span>, <span style=\"color: #008000; text-decoration-color: #008000\">'reviewCreatedVersion'</span>,\n",
       "       <span style=\"color: #008000; text-decoration-color: #008000\">'date'</span>, <span style=\"color: #008000; text-decoration-color: #008000\">'result'</span>, <span style=\"color: #008000; text-decoration-color: #008000\">'sentiment'</span><span style=\"font-weight: bold\">]</span>,\n",
       "      <span style=\"color: #808000; text-decoration-color: #808000\">dtype</span>=<span style=\"color: #008000; text-decoration-color: #008000\">'object'</span><span style=\"font-weight: bold\">)</span>\n",
       "</pre>\n"
      ],
      "text/plain": [
       "\n",
       "\u001b[1;35mIndex\u001b[0m\u001b[1m(\u001b[0m\u001b[1m[\u001b[0m\u001b[32m'reviewId'\u001b[0m, \u001b[32m'content'\u001b[0m, \u001b[32m'score'\u001b[0m, \u001b[32m'thumbsUpCount'\u001b[0m, \u001b[32m'reviewCreatedVersion'\u001b[0m,\n",
       "       \u001b[32m'date'\u001b[0m, \u001b[32m'result'\u001b[0m, \u001b[32m'sentiment'\u001b[0m\u001b[1m]\u001b[0m,\n",
       "      \u001b[33mdtype\u001b[0m=\u001b[32m'object'\u001b[0m\u001b[1m)\u001b[0m\n"
      ]
     },
     "metadata": {},
     "output_type": "display_data"
    }
   ],
   "source": [
    "df.columns"
   ]
  },
  {
   "cell_type": "code",
   "execution_count": null,
   "id": "88b2365b",
   "metadata": {},
   "outputs": [],
   "source": []
  }
 ],
 "metadata": {
  "kernelspec": {
   "display_name": "Kedro (google_play_sentiment)",
   "language": "python",
   "name": "kedro_google_play_sentiment"
  },
  "language_info": {
   "codemirror_mode": {
    "name": "ipython",
    "version": 3
   },
   "file_extension": ".py",
   "mimetype": "text/x-python",
   "name": "python",
   "nbconvert_exporter": "python",
   "pygments_lexer": "ipython3",
   "version": "3.10.4"
  }
 },
 "nbformat": 4,
 "nbformat_minor": 5
}
